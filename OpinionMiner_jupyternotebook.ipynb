{
 "cells": [
  {
   "cell_type": "markdown",
   "metadata": {},
   "source": [
    "## **OpinionMiner_Sentiment-Classifier**"
   ]
  },
  {
   "cell_type": "markdown",
   "metadata": {},
   "source": [
    "### Dataset:\n",
    "https://github.com/moossahussain/OpinionMiner_Sentiment-Classifier/raw/refs/heads/main/financial_news_headlines_sentiment.csv"
   ]
  },
  {
   "cell_type": "markdown",
   "metadata": {},
   "source": [
    "### Steps\n",
    "- 1. Download the dataset\n",
    "- 2. Load the dataset\n",
    "- 3. Explore the dataset (Exploratory Data Analysis)\n",
    "- 4. Clean the data\n",
    "- 5. Apply SMOTE for imbalanced data [Optional] --> Carries Bonus Marks\n",
    "- 6. Build a BoW model\n",
    "- 7. Build a Tf-Idf model\n",
    "- 8. Split train and test data\n",
    "- 9. Use one ML Classifying algorithm to classify the finanical news headline data\n",
    "- 10. Use another ML classifying algorithm to classify them\n",
    "- 11. Plot Confusion matrix "
   ]
  },
  {
   "cell_type": "code",
   "execution_count": 3,
   "metadata": {},
   "outputs": [
    {
     "name": "stderr",
     "output_type": "stream",
     "text": [
      "Matplotlib is building the font cache; this may take a moment.\n"
     ]
    }
   ],
   "source": [
    "import pandas as pd\n",
    "import numpy as np\n",
    "from sklearn.feature_extraction.text import CountVectorizer, TfidfVectorizer\n",
    "from sklearn.model_selection import train_test_split\n",
    "from sklearn.ensemble import RandomForestClassifier\n",
    "from sklearn.linear_model import LogisticRegression\n",
    "from sklearn.metrics import classification_report, confusion_matrix, ConfusionMatrixDisplay\n",
    "from imblearn.over_sampling import SMOTE\n",
    "import matplotlib.pyplot as plt\n"
   ]
  },
  {
   "cell_type": "markdown",
   "metadata": {},
   "source": [
    "## Load the dataset"
   ]
  },
  {
   "cell_type": "code",
   "execution_count": null,
   "metadata": {},
   "outputs": [],
   "source": [
    "!wget https://github.com/moossahussain/OpinionMiner_Sentiment-Classifier/raw/refs/heads/main/financial_news_headlines_sentiment.csv"
   ]
  },
  {
   "cell_type": "code",
   "execution_count": 28,
   "metadata": {},
   "outputs": [],
   "source": [
    "df = pd.read_csv('financial_news_headlines_sentiment.csv', header=None, names=[\"sentiment\", \"headline\"], encoding='latin1')"
   ]
  },
  {
   "cell_type": "markdown",
   "metadata": {},
   "source": [
    "## Explore the dataset"
   ]
  },
  {
   "cell_type": "code",
   "execution_count": 29,
   "metadata": {},
   "outputs": [
    {
     "name": "stdout",
     "output_type": "stream",
     "text": [
      "  sentiment                                           headline\n",
      "0   neutral  According to Gran , the company has no plans t...\n",
      "1   neutral  Technopolis plans to develop in stages an area...\n",
      "2  negative  The international electronic industry company ...\n",
      "3  positive  With the new production plant the company woul...\n",
      "4  positive  According to the company 's updated strategy f...\n",
      "sentiment\n",
      "neutral     2879\n",
      "positive    1363\n",
      "negative     604\n",
      "Name: count, dtype: int64\n",
      "sentiment    0\n",
      "headline     0\n",
      "dtype: int64\n"
     ]
    }
   ],
   "source": [
    "print(df.head())\n",
    "print(df['sentiment'].value_counts())\n",
    "print(df.isnull().sum())"
   ]
  },
  {
   "cell_type": "markdown",
   "metadata": {},
   "source": [
    "## Clean the data"
   ]
  },
  {
   "cell_type": "code",
   "execution_count": 30,
   "metadata": {},
   "outputs": [],
   "source": [
    "# Remove punctuation, convert to lowercase\n",
    "df['headline'] = df['headline'].str.replace('[^\\w\\s]', '', regex=True).str.lower()\n",
    "\n",
    "# Encode labels\n",
    "sentiment_mapping = {'neutral': 0, 'negative': 1, 'positive': 2}\n",
    "df['sentiment'] = df['sentiment'].map(sentiment_mapping)\n"
   ]
  },
  {
   "cell_type": "markdown",
   "metadata": {},
   "source": [
    "## SMOTE (Imbalanced dataset)"
   ]
  },
  {
   "cell_type": "code",
   "execution_count": null,
   "metadata": {},
   "outputs": [],
   "source": [
    "X = df['headline']\n",
    "y = df['sentiment']\n",
    "\n",
    "# Vectorize text using BoW\n",
    "bow_vectorizer = CountVectorizer(max_features=1000)\n",
    "X_bow = bow_vectorizer.fit_transform(X).toarray()\n",
    "\n",
    "smote = SMOTE(random_state=42)\n",
    "X_resampled, y_resampled = smote.fit_resample(X_bow, y)"
   ]
  },
  {
   "cell_type": "markdown",
   "metadata": {},
   "source": [
    "## BoW model"
   ]
  },
  {
   "cell_type": "code",
   "execution_count": 32,
   "metadata": {},
   "outputs": [
    {
     "name": "stdout",
     "output_type": "stream",
     "text": [
      "BoW example: ['000' '03' '08' '10' '100' '11' '12' '12month' '13' '14']\n"
     ]
    }
   ],
   "source": [
    "print(\"BoW example:\", bow_vectorizer.get_feature_names_out()[:10])\n"
   ]
  },
  {
   "cell_type": "markdown",
   "metadata": {},
   "source": [
    "## Tf-idf model"
   ]
  },
  {
   "cell_type": "code",
   "execution_count": null,
   "metadata": {},
   "outputs": [
    {
     "name": "stdout",
     "output_type": "stream",
     "text": [
      "After SMOTE, X_tfidf_resampled shape: (8637, 1000)\n",
      "After SMOTE, y_tfidf_resampled shape: (8637,)\n"
     ]
    }
   ],
   "source": [
    "tfidf_vectorizer = TfidfVectorizer(max_features=1000)\n",
    "X_tfidf = tfidf_vectorizer.fit_transform(df['headline']).toarray()\n",
    "y = df['sentiment']\n",
    "\n",
    "smote = SMOTE(random_state=42)\n",
    "X_tfidf_resampled, y_tfidf_resampled = smote.fit_resample(X_tfidf, y)\n",
    "\n",
    "# Verify the sizes after SMOTE\n",
    "print(\"After SMOTE, X_tfidf_resampled shape:\", X_tfidf_resampled.shape)\n",
    "print(\"After SMOTE, y_tfidf_resampled shape:\", y_tfidf_resampled.shape)"
   ]
  },
  {
   "cell_type": "markdown",
   "metadata": {},
   "source": [
    "## Split train test data"
   ]
  },
  {
   "cell_type": "code",
   "execution_count": null,
   "metadata": {},
   "outputs": [
    {
     "name": "stdout",
     "output_type": "stream",
     "text": [
      "Train set shapes: X = (6909, 1000) , y = (6909,)\n",
      "Test set shapes: X = (1728, 1000) , y = (1728,)\n"
     ]
    }
   ],
   "source": [
    "X_train_tfidf, X_test_tfidf, y_train_tfidf, y_test_tfidf = train_test_split(\n",
    "    X_tfidf_resampled, y_tfidf_resampled, test_size=0.2, random_state=42\n",
    ")\n",
    "\n",
    "# Verify the sizes after splitting\n",
    "print(\"Train set shapes: X =\", X_train_tfidf.shape, \", y =\", y_train_tfidf.shape)\n",
    "print(\"Test set shapes: X =\", X_test_tfidf.shape, \", y =\", y_test_tfidf.shape)"
   ]
  },
  {
   "cell_type": "markdown",
   "metadata": {},
   "source": [
    "## RF Classification Algorithm"
   ]
  },
  {
   "cell_type": "code",
   "execution_count": 45,
   "metadata": {},
   "outputs": [
    {
     "name": "stdout",
     "output_type": "stream",
     "text": [
      "\n",
      "Random Forest Classification Report (Tf-Idf):\n",
      "              precision    recall  f1-score   support\n",
      "\n",
      "           0       0.80      0.92      0.86       580\n",
      "           1       0.97      0.95      0.96       564\n",
      "           2       0.92      0.80      0.85       584\n",
      "\n",
      "    accuracy                           0.89      1728\n",
      "   macro avg       0.89      0.89      0.89      1728\n",
      "weighted avg       0.89      0.89      0.89      1728\n",
      "\n"
     ]
    }
   ],
   "source": [
    "rf_classifier_tfidf = RandomForestClassifier(random_state=42)\n",
    "rf_classifier_tfidf.fit(X_train_tfidf, y_train_tfidf)\n",
    "y_pred_rf_tfidf = rf_classifier_tfidf.predict(X_test_tfidf)\n",
    "\n",
    "print(\"\\nRandom Forest Classification Report (Tf-Idf):\")\n",
    "print(classification_report(y_test_tfidf, y_pred_rf_tfidf))"
   ]
  },
  {
   "cell_type": "markdown",
   "metadata": {},
   "source": [
    "## LR Classification Algorithm"
   ]
  },
  {
   "cell_type": "code",
   "execution_count": null,
   "metadata": {},
   "outputs": [
    {
     "name": "stdout",
     "output_type": "stream",
     "text": [
      "\n",
      "Logistic Regression Classification Report (Tf-Idf):\n",
      "              precision    recall  f1-score   support\n",
      "\n",
      "           0       0.77      0.78      0.78       580\n",
      "           1       0.90      0.92      0.91       564\n",
      "           2       0.82      0.79      0.80       584\n",
      "\n",
      "    accuracy                           0.83      1728\n",
      "   macro avg       0.83      0.83      0.83      1728\n",
      "weighted avg       0.83      0.83      0.83      1728\n",
      "\n"
     ]
    }
   ],
   "source": [
    "lr_classifier_tfidf = LogisticRegression(random_state=42, max_iter=1000)\n",
    "lr_classifier_tfidf.fit(X_train_tfidf, y_train_tfidf)\n",
    "y_pred_lr_tfidf = lr_classifier_tfidf.predict(X_test_tfidf)\n",
    "\n",
    "print(\"\\nLogistic Regression Classification Report (Tf-Idf):\")\n",
    "print(classification_report(y_test_tfidf, y_pred_lr_tfidf))"
   ]
  },
  {
   "cell_type": "markdown",
   "metadata": {},
   "source": [
    "## Confusion Matrixes for two classification algorithms and two feature extractor methods"
   ]
  },
  {
   "cell_type": "code",
   "execution_count": null,
   "metadata": {},
   "outputs": [
    {
     "data": {
      "image/png": "[encoded data removed]",
      "text/plain": [
       "<Figure size 1200x600 with 4 Axes>"
      ]
     },
     "metadata": {},
     "output_type": "display_data"
    }
   ],
   "source": [
    "# Random Forest Confusion Matrix (Tf-Idf)\n",
    "cm_rf_tfidf = confusion_matrix(y_test_tfidf, y_pred_rf_tfidf)\n",
    "fig, ax = plt.subplots(1, 2, figsize=(12, 6))\n",
    "\n",
    "ConfusionMatrixDisplay(cm_rf_tfidf, display_labels=sentiment_mapping.keys()).plot(ax=ax[0])\n",
    "ax[0].set_title(\"Random Forest Confusion Matrix (Tf-Idf)\")\n",
    "\n",
    "# Logistic Regression Confusion Matrix (Tf-Idf)\n",
    "cm_lr_tfidf = confusion_matrix(y_test_tfidf, y_pred_lr_tfidf)\n",
    "ConfusionMatrixDisplay(cm_lr_tfidf, display_labels=sentiment_mapping.keys()).plot(ax=ax[1])\n",
    "ax[1].set_title(\"Logistic Regression Confusion Matrix (Tf-Idf)\")\n",
    "\n",
    "plt.tight_layout()\n",
    "plt.show()"
   ]
  }
 ],
 "metadata": {
  "kernelspec": {
   "display_name": "base",
   "language": "python",
   "name": "python3"
  },
  "language_info": {
   "codemirror_mode": {
    "name": "ipython",
    "version": 3
   },
   "file_extension": ".py",
   "mimetype": "text/x-python",
   "name": "python",
   "nbconvert_exporter": "python",
   "pygments_lexer": "ipython3",
   "version": "3.12.7"
  }
 },
 "nbformat": 4,
 "nbformat_minor": 4
}
